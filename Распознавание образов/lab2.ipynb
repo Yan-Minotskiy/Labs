{
  "nbformat": 4,
  "nbformat_minor": 0,
  "metadata": {
    "colab": {
      "name": "lab2.ipynb",
      "provenance": []
    },
    "kernelspec": {
      "name": "python3",
      "display_name": "Python 3"
    },
    "language_info": {
      "name": "python"
    }
  },
  "cells": [
    {
      "cell_type": "code",
      "metadata": {
        "id": "8R80pfEfQNCm"
      },
      "source": [
        "import numpy as np\n",
        "import pandas as pd\n",
        "from sklearn.tree import DecisionTreeClassifier\n",
        "from sklearn.model_selection import train_test_split\n",
        "from sklearn.ensemble import RandomForestClassifier\n",
        "from sklearn.model_selection import GridSearchCV\n",
        "from IPython.display import SVG\n",
        "from graphviz import Source\n",
        "from IPython.display import display\n",
        "import seaborn as sns\n",
        "from sklearn import tree\n",
        "%matplotlib inline"
      ],
      "execution_count": null,
      "outputs": []
    },
    {
      "cell_type": "code",
      "metadata": {
        "id": "ydODaqfgQQ8n"
      },
      "source": [
        "data = np.array([\n",
        "    [8, 0.425085, 0.948448, 0.889105, 0.953079, 0.45],\n",
        "    [7, 1.072754, 2.622625, 0.839396, 0.910934, 0.425],\n",
        "    [7, 1.153672, 2.096631, 0.916407, 0.937134, 0.575],\n",
        "    [16, 0.469281, 2.275466, 0.764007, 0.777941, 0.225],\n",
        "    [13, 2.011428, 4.570906, 0.942694, 0.962406, 0.450],\n",
        "    [12, 0.147850, 46.277087, -0.266681, 0.062770, 0.025],\n",
        "    [12, 0.923065, 0.949906, 0.905801, 0.963182, 0.975],\n",
        "    [14, 0.371636, 0.430226, 0.362364, 0.782262, 0.875],\n",
        "    [19, 0.983400, 0.935650, 0.880210, 0.965325, 0.975],\n",
        "    [9, 0.082614, 98.709266, -0.406015, -0.243613, 0.025],\n",
        "    [8, 0.089784, 3.778028, -0.128912, 0.048216, 0.025],\n",
        "    [7, 1.632607, 1.347575, 0.815265, 0.838908, 0.850]])"
      ],
      "execution_count": null,
      "outputs": []
    },
    {
      "cell_type": "code",
      "metadata": {
        "colab": {
          "base_uri": "https://localhost:8080/"
        },
        "id": "aO7Uyag5QTBM",
        "outputId": "1ed6d794-a565-4a87-b1dd-aae1f6ea1406"
      },
      "source": [
        "X = pd.DataFrame(data)\n",
        "print(X)"
      ],
      "execution_count": null,
      "outputs": [
        {
          "output_type": "stream",
          "text": [
            "       0         1          2         3         4      5\n",
            "0    8.0  0.425085   0.948448  0.889105  0.953079  0.450\n",
            "1    7.0  1.072754   2.622625  0.839396  0.910934  0.425\n",
            "2    7.0  1.153672   2.096631  0.916407  0.937134  0.575\n",
            "3   16.0  0.469281   2.275466  0.764007  0.777941  0.225\n",
            "4   13.0  2.011428   4.570906  0.942694  0.962406  0.450\n",
            "5   12.0  0.147850  46.277087 -0.266681  0.062770  0.025\n",
            "6   12.0  0.923065   0.949906  0.905801  0.963182  0.975\n",
            "7   14.0  0.371636   0.430226  0.362364  0.782262  0.875\n",
            "8   19.0  0.983400   0.935650  0.880210  0.965325  0.975\n",
            "9    9.0  0.082614  98.709266 -0.406015 -0.243613  0.025\n",
            "10   8.0  0.089784   3.778028 -0.128912  0.048216  0.025\n",
            "11   7.0  1.632607   1.347575  0.815265  0.838908  0.850\n"
          ],
          "name": "stdout"
        }
      ]
    },
    {
      "cell_type": "code",
      "metadata": {
        "id": "NwgvvtyJQ76j"
      },
      "source": [
        "Y = np.array([1, 1, 1, 2, 2, 2, 3, 3, 3, 4, 4, 4])"
      ],
      "execution_count": null,
      "outputs": []
    },
    {
      "cell_type": "code",
      "metadata": {
        "colab": {
          "base_uri": "https://localhost:8080/"
        },
        "id": "PY6yVCc6QVOg",
        "outputId": "5cd06060-8a5f-43e1-b8c4-d25751e6ad40"
      },
      "source": [
        "clf = tree.DecisionTreeClassifier()\n",
        "clf.fit(X, Y)"
      ],
      "execution_count": null,
      "outputs": [
        {
          "output_type": "execute_result",
          "data": {
            "text/plain": [
              "DecisionTreeClassifier(ccp_alpha=0.0, class_weight=None, criterion='gini',\n",
              "                       max_depth=None, max_features=None, max_leaf_nodes=None,\n",
              "                       min_impurity_decrease=0.0, min_impurity_split=None,\n",
              "                       min_samples_leaf=1, min_samples_split=2,\n",
              "                       min_weight_fraction_leaf=0.0, presort='deprecated',\n",
              "                       random_state=None, splitter='best')"
            ]
          },
          "metadata": {
            "tags": []
          },
          "execution_count": 25
        }
      ]
    },
    {
      "cell_type": "code",
      "metadata": {
        "colab": {
          "base_uri": "https://localhost:8080/",
          "height": 367
        },
        "id": "_i6t2Fu_QeMB",
        "outputId": "e199e4bd-16aa-4524-c75e-fe155e67d42d"
      },
      "source": [
        "\n",
        "tree.plot_tree(clf, filled=True)"
      ],
      "execution_count": null,
      "outputs": [
        {
          "output_type": "execute_result",
          "data": {
            "text/plain": [
              "[Text(167.4, 181.2, 'X[0] <= 10.5\\ngini = 0.75\\nsamples = 12\\nvalue = [3, 3, 3, 3]'),\n",
              " Text(83.7, 108.72, 'X[4] <= 0.875\\ngini = 0.5\\nsamples = 6\\nvalue = [3, 0, 0, 3]'),\n",
              " Text(41.85, 36.23999999999998, 'gini = 0.0\\nsamples = 3\\nvalue = [0, 0, 0, 3]'),\n",
              " Text(125.55000000000001, 36.23999999999998, 'gini = 0.0\\nsamples = 3\\nvalue = [3, 0, 0, 0]'),\n",
              " Text(251.10000000000002, 108.72, 'X[5] <= 0.662\\ngini = 0.5\\nsamples = 6\\nvalue = [0, 3, 3, 0]'),\n",
              " Text(209.25, 36.23999999999998, 'gini = 0.0\\nsamples = 3\\nvalue = [0, 3, 0, 0]'),\n",
              " Text(292.95, 36.23999999999998, 'gini = 0.0\\nsamples = 3\\nvalue = [0, 0, 3, 0]')]"
            ]
          },
          "metadata": {
            "tags": []
          },
          "execution_count": 26
        },
        {
          "output_type": "display_data",
          "data": {
            "image/png": "[encoded data removed]",
            "text/plain": [
              "<Figure size 432x288 with 1 Axes>"
            ]
          },
          "metadata": {
            "tags": [],
            "needs_background": "light"
          }
        }
      ]
    }
  ]
}